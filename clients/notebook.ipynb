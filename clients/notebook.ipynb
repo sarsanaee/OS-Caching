{
 "cells": [
  {
   "cell_type": "code",
   "execution_count": 2,
   "metadata": {},
   "outputs": [],
   "source": [
    "import matplotlib.pyplot as plt\n",
    "import numpy as np"
   ]
  },
  {
   "cell_type": "code",
   "execution_count": 22,
   "metadata": {},
   "outputs": [
    {
     "name": "stdout",
     "output_type": "stream",
     "text": [
      "9500\n",
      "9500\n"
     ]
    },
    {
     "name": "stderr",
     "output_type": "stream",
     "text": [
      "/usr/local/lib/python3.5/dist-packages/matplotlib/cbook/deprecation.py:107: MatplotlibDeprecationWarning: Adding an axes using the same arguments as a previous axes currently reuses the earlier instance.  In a future version, a new instance will always be created and returned.  Meanwhile, this warning can be suppressed, and the future behavior ensured, by passing a unique label to each axes instance.\n",
      "  warnings.warn(message, mplDeprecation, stacklevel=1)\n"
     ]
    },
    {
     "data": {
      "image/png": "[encoded data removed]",
      "text/plain": [
       "<Figure size 432x288 with 1 Axes>"
      ]
     },
     "metadata": {},
     "output_type": "display_data"
    }
   ],
   "source": [
    "# create some randomly ddistributed data:\n",
    "#data = np.random.randn(10000)\n",
    "data = np.loadtxt(\"data/in_kernel.txt\", skiprows=500)\n",
    "data10 = np.loadtxt(\"data/default.txt\", skiprows=500)\n",
    "\n",
    "print(len(data))\n",
    "print(len(data10))\n",
    "\n",
    "\n",
    "# sort the data:\n",
    "\n",
    "\n",
    "data_sorted = np.sort(data)#/1000\n",
    "data_sorted10 = np.sort(data10)#/1000\n",
    "\n",
    "\n",
    "\n",
    "\n",
    "\n",
    "\n",
    "\n",
    "# calculate the proportional values of samples\n",
    "p = 1. * np.arange(len(data)) / (len(data) - 1)\n",
    "p10 = 1. * np.arange(len(data10)) / (len(data10) - 1)\n",
    "\n",
    "\n",
    "# plot the sorted data:\n",
    "fig = plt.figure()\n",
    "\n",
    "#ax1 = fig.add_subplot(121)\n",
    "#ax1.plot(p, data_sorted)\n",
    "#ax1.set_xlabel('$p$')\n",
    "#ax1.set_ylabel('$x$')\n",
    "\n",
    "plt.ylim( (0.99, 1) )\n",
    "#plt.xlim( (0, 300) )\n",
    "ax2 = fig.add_subplot(111)\n",
    "plt.title(\"RTT of in-kernel vs userspace caching\")\n",
    "ax2.plot(data_sorted, p)\n",
    "ax2.plot(data_sorted10,p10)\n",
    "# ax2.plot(data_sorted100,p100)\n",
    "# ax2.plot(data_sorted200,p200)\n",
    "# ax2.plot(data_sorted300,p300)\n",
    "# ax2.plot(data_sorted500,p500)\n",
    "# ax2.plot(data_sorted700,p700)\n",
    "# ax2.plot(data_sorted1000,p1000)\n",
    "# ax2.plot(data_sorted10000,p10000)\n",
    "\n",
    "ax2.set_xlabel('$Latency(us)$')\n",
    "ax2.set_ylabel('$ECDF$')\n",
    "ax2.legend(['in-kernel', 'default'])\n",
    "\n",
    "\n",
    "\n",
    "'''\n",
    "plt.ylim( (0.99, 1) )\n",
    "ax2 = fig.add_subplot(221)\n",
    "plt.title(\"ECDF of QUIC Protocol\")\n",
    "#ax2.plot(data_sorted, p)\n",
    "ax2.plot(data_sorted10,p10)\n",
    "ax2.plot(data_sorted100,p100)\n",
    "ax2.plot(data_sorted1000,p1000)\n",
    "ax2.set_xlabel('$Latency(us)$')\n",
    "ax2.set_ylabel('$p$')\n",
    "ax2.legend(['10Mbps', '100Mbps','700Mbps', '1Gbps'])\n",
    "'''\n",
    "\n",
    "plt.savefig(\"data/plots/new_analysis_1000_call_1M.png\", format='png', dpi=300)"
   ]
  },
  {
   "cell_type": "code",
   "execution_count": 108,
   "metadata": {},
   "outputs": [
    {
     "name": "stdout",
     "output_type": "stream",
     "text": [
      "[64800.  5920.  3359.  2266.  1344.   959.  2696.   463.]\n",
      "[1.98293e+00 1.94420e+01 3.89805e+01 5.89301e+01 1.20849e+02 1.69193e+02\n",
      " 2.76540e+02 1.77002e+04]\n"
     ]
    },
    {
     "data": {
      "image/png": "[encoded data removed]",
      "text/plain": [
       "<matplotlib.figure.Figure at 0x7feb0d865550>"
      ]
     },
     "metadata": {},
     "output_type": "display_data"
    }
   ],
   "source": [
    "# create some randomly ddistributed data:\n",
    "#data = np.random.randn(10000)\n",
    "data = np.loadtxt(\"second_flow_1Mbps.dat\", skiprows=50)\n",
    "data10 = np.loadtxt(\"second_flow_10Mbps.dat\", skiprows=50)\n",
    "data100 = np.loadtxt(\"second_flow_100Mbps.dat\", skiprows=50)\n",
    "data200 = np.loadtxt(\"second_flow_200Mbps.dat\", skiprows=50)\n",
    "data300 = np.loadtxt(\"second_flow_300Mbps.dat\", skiprows=50)\n",
    "data500 = np.loadtxt(\"second_flow_500Mbps.dat\", skiprows=50)\n",
    "data700 = np.loadtxt(\"second_flow_700Mbps.dat\", skiprows=50)\n",
    "data1000 = np.loadtxt(\"second_flow_1000Mbps.dat\", skiprows=50)\n",
    "data10000 = np.loadtxt(\"second_flow_10000Mbps.dat\", skiprows=50)\n",
    "\n",
    "\n",
    "percentile = 95\n",
    "\n",
    "data = data[data[:,0].argsort()]\n",
    "data10 = data10[data10[:,0].argsort()]\n",
    "data100 = data100[data100[:,0].argsort()]\n",
    "data200 = data200[data200[:,0].argsort()]\n",
    "data300 = data300[data300[:,0].argsort()]\n",
    "data500 = data500[data500[:,0].argsort()]\n",
    "data700 = data700[data700[:,0].argsort()]\n",
    "data1000 = data1000[data1000[:,0].argsort()]\n",
    "data10000 = data10000[data10000[:,0].argsort()]\n",
    "\n",
    "\n",
    "# sort the data:\n",
    "#data_sorted = np.sort(data[:,0])/1000000\n",
    "\n",
    "\n",
    "\n",
    "#data_sorted10 = np.sort(data10[:,0])/1000000\n",
    "#data_sorted100 = np.sort(data100[:,0])/1000000\n",
    "#data_sorted200 = np.sort(data200[:,0])/1000000\n",
    "#data_sorted300 = np.sort(data300[:,0])/1000000\n",
    "#data_sorted500 = np.sort(data500[:,0])/1000000\n",
    "#data_sorted700 = np.sort(data700[:,0])/1000000\n",
    "#data_sorted1000 = np.sort(data1000[:,0])/1000000\n",
    "\n",
    "\n",
    "\n",
    "\n",
    "\n",
    "index = int(percentile*len(data)/100)\n",
    "index10 = int(percentile*len(data10)/100)\n",
    "index100 = int(percentile*len(data100)/100)\n",
    "index200 = int(percentile*len(data200)/100)\n",
    "index300 = int(percentile*len(data300)/100)\n",
    "index500 = int(percentile*len(data500)/100)\n",
    "index700 = int(percentile*len(data700)/100)\n",
    "index1000 = int(percentile*len(data1000)/100)\n",
    "index10000 = int(percentile*len(data10000)/100)\n",
    "\n",
    "\n",
    "\n",
    "# plot the sorted data:\n",
    "fig = plt.figure()\n",
    "\n",
    "#ax1 = fig.add_subplot(121)\n",
    "#ax1.plot(p, data_sorted)\n",
    "#ax1.set_xlabel('$p$')\n",
    "#ax1.set_ylabel('$x$')\n",
    "\n",
    "\n",
    "\n",
    "lat_thr = []\n",
    "#lat_thr.append((data[index][0]/1000000,data[index][1]))\n",
    "lat_thr.append((data10[index10][0], data10[index10][1]))\n",
    "lat_thr.append((data100[index100][0], data100[index100][1]))\n",
    "lat_thr.append((data200[index200][0], data200[index200][1]))\n",
    "lat_thr.append((data300[index300][0], data300[index300][1]))\n",
    "lat_thr.append((data500[index500][0], data500[index500][1]))\n",
    "lat_thr.append((data700[index700][0], data700[index700][1]))\n",
    "lat_thr.append((data1000[index1000][0], data1000[index1000][1]))\n",
    "lat_thr.append((data10000[index10000][0], data10000[index10000][1]))\n",
    "\n",
    "\n",
    "lat_thr = np.array(lat_thr)\n",
    "\n",
    "print(lat_thr[:,0])\n",
    "print(lat_thr[:,1])\n",
    "\n",
    "ax2 = fig.add_subplot(111)\n",
    "plt.title(\"$QUIC$\")\n",
    "#ax2.plot(lat_thr[:,1],lat_thr[:,0], marker=\"v\")\n",
    "ax2.plot(data10[:,1], data10[:,0]/1000)\n",
    "ax2.plot(data100[:,1], data100[:,0]/1000)\n",
    "ax2.plot(data200[:,1], data200[:,0]/1000)\n",
    "ax2.plot(data300[:,1], data300[:,0]/1000)\n",
    "ax2.plot(data500[:,1], data500[:,0]/1000)\n",
    "ax2.plot(data700[:,1], data700[:,0]/1000)\n",
    "ax2.plot(data1000[:,1], data1000[:,0]/1000)\n",
    "ax2.plot(data10000[:,1], data10000[:,0]/1000)\n",
    "\n",
    "ax2.set_xlabel('$Throughput(Mbps)$')\n",
    "ax2.set_ylabel('$Latency(us)$')\n",
    "ax2.legend(['10Mbps', '100Mbps', '200Mbps', '300Mbps' , '500Mbps' , '700Mbps', '1Gbps', '10Gbps'])\n",
    "\n",
    "plt.savefig(\"quic-latency-throughput-\" + str(percentile) + \".png\", format='png', dpi=300)\n"
   ]
  }
 ],
 "metadata": {
  "kernelspec": {
   "display_name": "Python 3",
   "language": "python",
   "name": "python3"
  },
  "language_info": {
   "codemirror_mode": {
    "name": "ipython",
    "version": 3
   },
   "file_extension": ".py",
   "mimetype": "text/x-python",
   "name": "python",
   "nbconvert_exporter": "python",
   "pygments_lexer": "ipython3",
   "version": "3.5.2"
  }
 },
 "nbformat": 4,
 "nbformat_minor": 2
}
